{
  "nbformat": 4,
  "nbformat_minor": 0,
  "metadata": {
    "colab": {
      "provenance": []
    },
    "kernelspec": {
      "name": "python3",
      "display_name": "Python 3"
    },
    "language_info": {
      "name": "python"
    }
  },
  "cells": [
    {
      "cell_type": "markdown",
      "source": [
        "Required Libraries"
      ],
      "metadata": {
        "id": "4Ex2kW2LtRfV"
      }
    },
    {
      "cell_type": "code",
      "metadata": {
        "colab": {
          "base_uri": "https://localhost:8080/"
        },
        "id": "c19a772c",
        "outputId": "c4f148fb-24c0-44b0-eedb-7c161e6adaa2"
      },
      "source": [
        "!pip install pandas scikit-learn"
      ],
      "execution_count": 1,
      "outputs": [
        {
          "output_type": "stream",
          "name": "stdout",
          "text": [
            "Requirement already satisfied: pandas in /usr/local/lib/python3.11/dist-packages (2.2.2)\n",
            "Requirement already satisfied: scikit-learn in /usr/local/lib/python3.11/dist-packages (1.6.1)\n",
            "Requirement already satisfied: numpy>=1.23.2 in /usr/local/lib/python3.11/dist-packages (from pandas) (2.0.2)\n",
            "Requirement already satisfied: python-dateutil>=2.8.2 in /usr/local/lib/python3.11/dist-packages (from pandas) (2.9.0.post0)\n",
            "Requirement already satisfied: pytz>=2020.1 in /usr/local/lib/python3.11/dist-packages (from pandas) (2025.2)\n",
            "Requirement already satisfied: tzdata>=2022.7 in /usr/local/lib/python3.11/dist-packages (from pandas) (2025.2)\n",
            "Requirement already satisfied: scipy>=1.6.0 in /usr/local/lib/python3.11/dist-packages (from scikit-learn) (1.15.3)\n",
            "Requirement already satisfied: joblib>=1.2.0 in /usr/local/lib/python3.11/dist-packages (from scikit-learn) (1.5.1)\n",
            "Requirement already satisfied: threadpoolctl>=3.1.0 in /usr/local/lib/python3.11/dist-packages (from scikit-learn) (3.6.0)\n",
            "Requirement already satisfied: six>=1.5 in /usr/local/lib/python3.11/dist-packages (from python-dateutil>=2.8.2->pandas) (1.17.0)\n"
          ]
        }
      ]
    },
    {
      "cell_type": "markdown",
      "source": [
        "Libraries Import"
      ],
      "metadata": {
        "id": "1_lGTdZZtYJU"
      }
    },
    {
      "cell_type": "code",
      "metadata": {
        "id": "40249658"
      },
      "source": [
        "import pandas as pd\n",
        "import numpy as np\n",
        "from sklearn.preprocessing import LabelEncoder\n",
        "from sklearn.model_selection import train_test_split\n",
        "from sklearn.tree import DecisionTreeClassifier\n",
        "from sklearn.metrics import accuracy_score"
      ],
      "execution_count": 2,
      "outputs": []
    },
    {
      "cell_type": "markdown",
      "source": [
        "Load All CSV Files"
      ],
      "metadata": {
        "id": "4Ijo3H4vtewL"
      }
    },
    {
      "cell_type": "code",
      "metadata": {
        "id": "1ff439fa"
      },
      "source": [
        "# Main training dataset\n",
        "df = pd.read_csv(\"dataset.csv\")\n",
        "\n",
        "# Supporting files\n",
        "severity = pd.read_csv(\"Symptom-severity.csv\")\n",
        "descriptions = pd.read_csv(\"symptom_Description.csv\")\n",
        "precautions = pd.read_csv(\"symptom_precaution.csv\")"
      ],
      "execution_count": 3,
      "outputs": []
    },
    {
      "cell_type": "markdown",
      "source": [
        "Data Cleaning"
      ],
      "metadata": {
        "id": "PKoieBI0tp0U"
      }
    },
    {
      "cell_type": "code",
      "metadata": {
        "id": "2eec1ac9"
      },
      "source": [
        "df = df.fillna(0)\n",
        "\n",
        "# Remove leading/trailing spaces from column values\n",
        "for col in df.columns[1:]:\n",
        "    df[col] = df[col].astype(str).str.strip()"
      ],
      "execution_count": 12,
      "outputs": []
    },
    {
      "cell_type": "markdown",
      "source": [
        "Get All Unique Symptoms"
      ],
      "metadata": {
        "id": "RszQ3Qclts-j"
      }
    },
    {
      "cell_type": "code",
      "metadata": {
        "id": "dcbd5e6a"
      },
      "source": [
        "symptoms = {}\n",
        "for i in df.columns[1:]:\n",
        "    for j in set(df[i]):\n",
        "        if j not in symptoms and j != '0':\n",
        "            symptoms[j] = 1\n",
        "        else:\n",
        "            symptoms[j] += 1\n",
        "\n",
        "symptom_list = sorted(symptoms.keys())"
      ],
      "execution_count": 13,
      "outputs": []
    },
    {
      "cell_type": "markdown",
      "source": [
        "Convert Data to Binary Format(Symptoms as Features)"
      ],
      "metadata": {
        "id": "GKkJd2litylD"
      }
    },
    {
      "cell_type": "code",
      "metadata": {
        "colab": {
          "base_uri": "https://localhost:8080/"
        },
        "id": "454841a2",
        "outputId": "065f2f37-8dbc-4e41-94ce-058b0bc51fb3"
      },
      "source": [
        "df1 = pd.DataFrame()\n",
        "df1['Disease'] = df['Disease']\n",
        "for sym in symptom_list:\n",
        "    df1[sym] = 0\n",
        "\n",
        "# Mark 1 where symptom exists\n",
        "for i, row in df.iterrows():\n",
        "    for col in df.columns[1:]:\n",
        "        if row[col] != '0':\n",
        "            df1.loc[i, row[col]] = 1"
      ],
      "execution_count": 14,
      "outputs": [
        {
          "output_type": "stream",
          "name": "stderr",
          "text": [
            "/tmp/ipython-input-14-3570169978.py:4: PerformanceWarning: DataFrame is highly fragmented.  This is usually the result of calling `frame.insert` many times, which has poor performance.  Consider joining all columns at once using pd.concat(axis=1) instead. To get a de-fragmented frame, use `newframe = frame.copy()`\n",
            "  df1[sym] = 0\n",
            "/tmp/ipython-input-14-3570169978.py:4: PerformanceWarning: DataFrame is highly fragmented.  This is usually the result of calling `frame.insert` many times, which has poor performance.  Consider joining all columns at once using pd.concat(axis=1) instead. To get a de-fragmented frame, use `newframe = frame.copy()`\n",
            "  df1[sym] = 0\n",
            "/tmp/ipython-input-14-3570169978.py:4: PerformanceWarning: DataFrame is highly fragmented.  This is usually the result of calling `frame.insert` many times, which has poor performance.  Consider joining all columns at once using pd.concat(axis=1) instead. To get a de-fragmented frame, use `newframe = frame.copy()`\n",
            "  df1[sym] = 0\n",
            "/tmp/ipython-input-14-3570169978.py:4: PerformanceWarning: DataFrame is highly fragmented.  This is usually the result of calling `frame.insert` many times, which has poor performance.  Consider joining all columns at once using pd.concat(axis=1) instead. To get a de-fragmented frame, use `newframe = frame.copy()`\n",
            "  df1[sym] = 0\n",
            "/tmp/ipython-input-14-3570169978.py:4: PerformanceWarning: DataFrame is highly fragmented.  This is usually the result of calling `frame.insert` many times, which has poor performance.  Consider joining all columns at once using pd.concat(axis=1) instead. To get a de-fragmented frame, use `newframe = frame.copy()`\n",
            "  df1[sym] = 0\n",
            "/tmp/ipython-input-14-3570169978.py:4: PerformanceWarning: DataFrame is highly fragmented.  This is usually the result of calling `frame.insert` many times, which has poor performance.  Consider joining all columns at once using pd.concat(axis=1) instead. To get a de-fragmented frame, use `newframe = frame.copy()`\n",
            "  df1[sym] = 0\n",
            "/tmp/ipython-input-14-3570169978.py:4: PerformanceWarning: DataFrame is highly fragmented.  This is usually the result of calling `frame.insert` many times, which has poor performance.  Consider joining all columns at once using pd.concat(axis=1) instead. To get a de-fragmented frame, use `newframe = frame.copy()`\n",
            "  df1[sym] = 0\n",
            "/tmp/ipython-input-14-3570169978.py:4: PerformanceWarning: DataFrame is highly fragmented.  This is usually the result of calling `frame.insert` many times, which has poor performance.  Consider joining all columns at once using pd.concat(axis=1) instead. To get a de-fragmented frame, use `newframe = frame.copy()`\n",
            "  df1[sym] = 0\n",
            "/tmp/ipython-input-14-3570169978.py:4: PerformanceWarning: DataFrame is highly fragmented.  This is usually the result of calling `frame.insert` many times, which has poor performance.  Consider joining all columns at once using pd.concat(axis=1) instead. To get a de-fragmented frame, use `newframe = frame.copy()`\n",
            "  df1[sym] = 0\n",
            "/tmp/ipython-input-14-3570169978.py:4: PerformanceWarning: DataFrame is highly fragmented.  This is usually the result of calling `frame.insert` many times, which has poor performance.  Consider joining all columns at once using pd.concat(axis=1) instead. To get a de-fragmented frame, use `newframe = frame.copy()`\n",
            "  df1[sym] = 0\n",
            "/tmp/ipython-input-14-3570169978.py:4: PerformanceWarning: DataFrame is highly fragmented.  This is usually the result of calling `frame.insert` many times, which has poor performance.  Consider joining all columns at once using pd.concat(axis=1) instead. To get a de-fragmented frame, use `newframe = frame.copy()`\n",
            "  df1[sym] = 0\n",
            "/tmp/ipython-input-14-3570169978.py:4: PerformanceWarning: DataFrame is highly fragmented.  This is usually the result of calling `frame.insert` many times, which has poor performance.  Consider joining all columns at once using pd.concat(axis=1) instead. To get a de-fragmented frame, use `newframe = frame.copy()`\n",
            "  df1[sym] = 0\n",
            "/tmp/ipython-input-14-3570169978.py:4: PerformanceWarning: DataFrame is highly fragmented.  This is usually the result of calling `frame.insert` many times, which has poor performance.  Consider joining all columns at once using pd.concat(axis=1) instead. To get a de-fragmented frame, use `newframe = frame.copy()`\n",
            "  df1[sym] = 0\n",
            "/tmp/ipython-input-14-3570169978.py:4: PerformanceWarning: DataFrame is highly fragmented.  This is usually the result of calling `frame.insert` many times, which has poor performance.  Consider joining all columns at once using pd.concat(axis=1) instead. To get a de-fragmented frame, use `newframe = frame.copy()`\n",
            "  df1[sym] = 0\n",
            "/tmp/ipython-input-14-3570169978.py:4: PerformanceWarning: DataFrame is highly fragmented.  This is usually the result of calling `frame.insert` many times, which has poor performance.  Consider joining all columns at once using pd.concat(axis=1) instead. To get a de-fragmented frame, use `newframe = frame.copy()`\n",
            "  df1[sym] = 0\n",
            "/tmp/ipython-input-14-3570169978.py:4: PerformanceWarning: DataFrame is highly fragmented.  This is usually the result of calling `frame.insert` many times, which has poor performance.  Consider joining all columns at once using pd.concat(axis=1) instead. To get a de-fragmented frame, use `newframe = frame.copy()`\n",
            "  df1[sym] = 0\n",
            "/tmp/ipython-input-14-3570169978.py:4: PerformanceWarning: DataFrame is highly fragmented.  This is usually the result of calling `frame.insert` many times, which has poor performance.  Consider joining all columns at once using pd.concat(axis=1) instead. To get a de-fragmented frame, use `newframe = frame.copy()`\n",
            "  df1[sym] = 0\n",
            "/tmp/ipython-input-14-3570169978.py:4: PerformanceWarning: DataFrame is highly fragmented.  This is usually the result of calling `frame.insert` many times, which has poor performance.  Consider joining all columns at once using pd.concat(axis=1) instead. To get a de-fragmented frame, use `newframe = frame.copy()`\n",
            "  df1[sym] = 0\n",
            "/tmp/ipython-input-14-3570169978.py:4: PerformanceWarning: DataFrame is highly fragmented.  This is usually the result of calling `frame.insert` many times, which has poor performance.  Consider joining all columns at once using pd.concat(axis=1) instead. To get a de-fragmented frame, use `newframe = frame.copy()`\n",
            "  df1[sym] = 0\n",
            "/tmp/ipython-input-14-3570169978.py:4: PerformanceWarning: DataFrame is highly fragmented.  This is usually the result of calling `frame.insert` many times, which has poor performance.  Consider joining all columns at once using pd.concat(axis=1) instead. To get a de-fragmented frame, use `newframe = frame.copy()`\n",
            "  df1[sym] = 0\n",
            "/tmp/ipython-input-14-3570169978.py:4: PerformanceWarning: DataFrame is highly fragmented.  This is usually the result of calling `frame.insert` many times, which has poor performance.  Consider joining all columns at once using pd.concat(axis=1) instead. To get a de-fragmented frame, use `newframe = frame.copy()`\n",
            "  df1[sym] = 0\n",
            "/tmp/ipython-input-14-3570169978.py:4: PerformanceWarning: DataFrame is highly fragmented.  This is usually the result of calling `frame.insert` many times, which has poor performance.  Consider joining all columns at once using pd.concat(axis=1) instead. To get a de-fragmented frame, use `newframe = frame.copy()`\n",
            "  df1[sym] = 0\n",
            "/tmp/ipython-input-14-3570169978.py:4: PerformanceWarning: DataFrame is highly fragmented.  This is usually the result of calling `frame.insert` many times, which has poor performance.  Consider joining all columns at once using pd.concat(axis=1) instead. To get a de-fragmented frame, use `newframe = frame.copy()`\n",
            "  df1[sym] = 0\n",
            "/tmp/ipython-input-14-3570169978.py:4: PerformanceWarning: DataFrame is highly fragmented.  This is usually the result of calling `frame.insert` many times, which has poor performance.  Consider joining all columns at once using pd.concat(axis=1) instead. To get a de-fragmented frame, use `newframe = frame.copy()`\n",
            "  df1[sym] = 0\n",
            "/tmp/ipython-input-14-3570169978.py:4: PerformanceWarning: DataFrame is highly fragmented.  This is usually the result of calling `frame.insert` many times, which has poor performance.  Consider joining all columns at once using pd.concat(axis=1) instead. To get a de-fragmented frame, use `newframe = frame.copy()`\n",
            "  df1[sym] = 0\n",
            "/tmp/ipython-input-14-3570169978.py:4: PerformanceWarning: DataFrame is highly fragmented.  This is usually the result of calling `frame.insert` many times, which has poor performance.  Consider joining all columns at once using pd.concat(axis=1) instead. To get a de-fragmented frame, use `newframe = frame.copy()`\n",
            "  df1[sym] = 0\n",
            "/tmp/ipython-input-14-3570169978.py:4: PerformanceWarning: DataFrame is highly fragmented.  This is usually the result of calling `frame.insert` many times, which has poor performance.  Consider joining all columns at once using pd.concat(axis=1) instead. To get a de-fragmented frame, use `newframe = frame.copy()`\n",
            "  df1[sym] = 0\n",
            "/tmp/ipython-input-14-3570169978.py:4: PerformanceWarning: DataFrame is highly fragmented.  This is usually the result of calling `frame.insert` many times, which has poor performance.  Consider joining all columns at once using pd.concat(axis=1) instead. To get a de-fragmented frame, use `newframe = frame.copy()`\n",
            "  df1[sym] = 0\n",
            "/tmp/ipython-input-14-3570169978.py:4: PerformanceWarning: DataFrame is highly fragmented.  This is usually the result of calling `frame.insert` many times, which has poor performance.  Consider joining all columns at once using pd.concat(axis=1) instead. To get a de-fragmented frame, use `newframe = frame.copy()`\n",
            "  df1[sym] = 0\n",
            "/tmp/ipython-input-14-3570169978.py:4: PerformanceWarning: DataFrame is highly fragmented.  This is usually the result of calling `frame.insert` many times, which has poor performance.  Consider joining all columns at once using pd.concat(axis=1) instead. To get a de-fragmented frame, use `newframe = frame.copy()`\n",
            "  df1[sym] = 0\n",
            "/tmp/ipython-input-14-3570169978.py:4: PerformanceWarning: DataFrame is highly fragmented.  This is usually the result of calling `frame.insert` many times, which has poor performance.  Consider joining all columns at once using pd.concat(axis=1) instead. To get a de-fragmented frame, use `newframe = frame.copy()`\n",
            "  df1[sym] = 0\n",
            "/tmp/ipython-input-14-3570169978.py:4: PerformanceWarning: DataFrame is highly fragmented.  This is usually the result of calling `frame.insert` many times, which has poor performance.  Consider joining all columns at once using pd.concat(axis=1) instead. To get a de-fragmented frame, use `newframe = frame.copy()`\n",
            "  df1[sym] = 0\n",
            "/tmp/ipython-input-14-3570169978.py:4: PerformanceWarning: DataFrame is highly fragmented.  This is usually the result of calling `frame.insert` many times, which has poor performance.  Consider joining all columns at once using pd.concat(axis=1) instead. To get a de-fragmented frame, use `newframe = frame.copy()`\n",
            "  df1[sym] = 0\n"
          ]
        }
      ]
    },
    {
      "cell_type": "markdown",
      "source": [
        "Prepare Features And Labels"
      ],
      "metadata": {
        "id": "AKHV5ChLt_0a"
      }
    },
    {
      "cell_type": "code",
      "metadata": {
        "id": "66cc176f"
      },
      "source": [
        "X = df1.drop(columns=['Disease']).values\n",
        "y = df1['Disease'].values\n",
        "le = LabelEncoder()\n",
        "y_encoded = le.fit_transform(y)"
      ],
      "execution_count": 15,
      "outputs": []
    },
    {
      "cell_type": "markdown",
      "source": [
        "Train Model (Random Forest Classifier)"
      ],
      "metadata": {
        "id": "bKvbthHJuHqy"
      }
    },
    {
      "cell_type": "code",
      "metadata": {
        "colab": {
          "base_uri": "https://localhost:8080/"
        },
        "id": "4dcd49d3",
        "outputId": "fbb0c403-fe77-4c8a-bfb0-f4170789fc59"
      },
      "source": [
        "X_train, X_test, y_train, y_test = train_test_split(X, y_encoded, test_size=0.15, random_state=42)\n",
        "from sklearn.ensemble import RandomForestClassifier\n",
        "model = RandomForestClassifier()\n",
        "model.fit(X_train, y_train)\n",
        "print(\"Model Accuracy:\", model.score(X_test, y_test))"
      ],
      "execution_count": 16,
      "outputs": [
        {
          "output_type": "stream",
          "name": "stdout",
          "text": [
            "Model Accuracy: 1.0\n"
          ]
        }
      ]
    },
    {
      "cell_type": "markdown",
      "source": [
        "Train Model"
      ],
      "metadata": {
        "id": "b9A06dRouPIb"
      }
    },
    {
      "cell_type": "code",
      "metadata": {
        "id": "92534f7c"
      },
      "source": [
        "import pickle\n",
        "\n",
        "pickle.dump(model, open('disease_model.pkl', 'wb'))"
      ],
      "execution_count": 17,
      "outputs": []
    },
    {
      "cell_type": "markdown",
      "source": [
        "Prediction Function (Top 5 Disease)"
      ],
      "metadata": {
        "id": "hDl4e-6ZuTRi"
      }
    },
    {
      "cell_type": "code",
      "metadata": {
        "id": "65fdd29f"
      },
      "source": [
        "def predict_disease(input_symptoms):\n",
        "    # Create input feature vector\n",
        "    input_vector = [1 if sym in input_symptoms else 0 for sym in symptom_list]\n",
        "\n",
        "    # Predict\n",
        "    proba = model.predict_proba([input_vector])[0]\n",
        "    top5_indices = np.argsort(proba)[-5:][::-1]\n",
        "    top5_probs = proba[top5_indices]\n",
        "    top5_diseases = le.inverse_transform(top5_indices)\n",
        "\n",
        "    for i in range(5):\n",
        "        disease = top5_diseases[i]\n",
        "        prob = top5_probs[i]\n",
        "        print(f\"\\n Prediction #{i+1}: {disease} — Probability: {prob:.2f}\")\n",
        "\n",
        "        # Description\n",
        "        desc = descriptions[descriptions['Disease'] == disease]['Description']\n",
        "        if not desc.empty:\n",
        "            print(f\"Description: {desc.values[0]}\")\n",
        "\n",
        "        # Precautions\n",
        "        print(\"Precautions:\")\n",
        "        row = precautions[precautions['Disease'] == disease]\n",
        "        if not row.empty:\n",
        "            for j in range(1, 5):\n",
        "                print(f\"- {row.iloc[0][f'Precaution_{j}']}\")\n",
        "        print(\"—\" * 40)"
      ],
      "execution_count": 19,
      "outputs": []
    },
    {
      "cell_type": "markdown",
      "source": [
        "Testing Model"
      ],
      "metadata": {
        "id": "4pnH7uRruZxJ"
      }
    },
    {
      "cell_type": "code",
      "metadata": {
        "colab": {
          "base_uri": "https://localhost:8080/"
        },
        "id": "f45ba9f6",
        "outputId": "866cc8bf-fdc5-4450-c893-efde298ec848"
      },
      "source": [
        "# Example Symptoms\n",
        "user_input = ['headache', 'vomiting', 'chills']\n",
        "predict_disease(user_input)"
      ],
      "execution_count": 20,
      "outputs": [
        {
          "output_type": "stream",
          "name": "stdout",
          "text": [
            "\n",
            " Prediction #1: Paralysis (brain hemorrhage) — Probability: 0.36\n",
            "Description: Intracerebral hemorrhage (ICH) is when blood suddenly bursts into brain tissue, causing damage to your brain. Symptoms usually appear suddenly during ICH. They include headache, weakness, confusion, and paralysis, particularly on one side of your body.\n",
            "Precautions:\n",
            "- massage\n",
            "- eat healthy\n",
            "- exercise\n",
            "- consult doctor\n",
            "————————————————————————————————————————\n",
            "\n",
            " Prediction #2: Allergy — Probability: 0.26\n",
            "Description: An allergy is an immune system response to a foreign substance that's not typically harmful to your body.They can include certain foods, pollen, or pet dander. Your immune system's job is to keep you healthy by fighting harmful pathogens.\n",
            "Precautions:\n",
            "- apply calamine\n",
            "- cover area with bandage\n",
            "- nan\n",
            "- use ice to compress itching\n",
            "————————————————————————————————————————\n",
            "\n",
            " Prediction #3: Malaria — Probability: 0.12\n",
            "Description: An infectious disease caused by protozoan parasites from the Plasmodium family that can be transmitted by the bite of the Anopheles mosquito or by a contaminated needle or transfusion. Falciparum malaria is the most deadly type.\n",
            "Precautions:\n",
            "- Consult nearest hospital\n",
            "- avoid oily food\n",
            "- avoid non veg food\n",
            "- keep mosquitos out\n",
            "————————————————————————————————————————\n",
            "\n",
            " Prediction #4: Heart attack — Probability: 0.06\n",
            "Description: The death of heart muscle due to the loss of blood supply. The loss of blood supply is usually caused by a complete blockage of a coronary artery, one of the arteries that supplies blood to the heart muscle.\n",
            "Precautions:\n",
            "- call ambulance\n",
            "- chew or swallow asprin\n",
            "- keep calm\n",
            "- nan\n",
            "————————————————————————————————————————\n",
            "\n",
            " Prediction #5: Typhoid — Probability: 0.05\n",
            "Description: An acute illness characterized by fever caused by infection with the bacterium Salmonella typhi. Typhoid fever has an insidious onset, with fever, headache, constipation, malaise, chills, and muscle pain. Diarrhea is uncommon, and vomiting is not usually severe.\n",
            "Precautions:\n",
            "- eat high calorie vegitables\n",
            "- antiboitic therapy\n",
            "- consult doctor\n",
            "- medication\n",
            "————————————————————————————————————————\n"
          ]
        }
      ]
    }
  ]
}